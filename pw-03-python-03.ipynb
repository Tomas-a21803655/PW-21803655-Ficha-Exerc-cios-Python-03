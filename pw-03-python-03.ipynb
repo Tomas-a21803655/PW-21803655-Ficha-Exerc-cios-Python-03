{
 "cells": [
  {
   "cell_type": "markdown",
   "metadata": {},
   "source": [
    "**UNIVERSIDADE LUSÓFONA DE HUMANIDADES E TECNOLOGIAS**\n",
    "\n",
    "# Programação Web - Ficha 3 de Python: Funções, ficheiros e classes \n",
    "\n",
    "**OBJECTIVO**: \n",
    "* Nesta ficha exercitará conceitos adquiridos sobre funções e seus módulos, manuseamento e gestão de ficheiros e criação de classes.\n",
    "* Aprenderá a utilizar módulos para a manipulação de ficheiros CSV e JSON, assim como a criação de gráficos. \n",
    "\n",
    "**PRÉ-REQUISITOS**: \n",
    "* Instale o Pycharm (aconselhado, da JetBrains, versão Profissional para estudante. Use as credenciais da Lusofona como na instalação do IntelliJ) ou o VS Code (instale uma extensão para Python). \n",
    "* Crie uma pasta `pw-python-03` onde guardará este enunciado. Para cada exercicio crie uma pasta.\n",
    "* Crie um repositório no GitHub onde irá sincronizando gradualmente os exercícios que for fazendo. \n",
    "\n",
    "**PRAZO**: \n",
    "* Finalize e submeta a ficha antes da sua aula prática da semana de 10-14 de maio. "
   ]
  },
  {
   "cell_type": "markdown",
   "metadata": {},
   "source": [
    "# Exercício 1\n",
    "\n",
    "### Manipulação de ficheiros JSON\n",
    "JSON (JavaScript Object Notation) é um formato de dados popular para representar dados estruturados. Será usado no primeiro exercício desta ficha. \n",
    "* É comum transmitir e receber dados entre um servidor e uma aplicação web no formato JSON.\n",
    "* É comum guardar um objeto JSON num ficheiro.\n",
    "* O módulo `json` permite trabalhar com o formato JSON. Deverá instalá-lo com o comando `python -m pip install json`.\n",
    "* um dicionário Python pode ser convertido diretamente numa string JSON (com o método `json.dumps()`) ou num ficheiro JSON (com o método `json.dump()`).\n",
    "* Uma string JSON ou um ficheiro JSON podem ser convertidos diretamente num dicionario Python com os métodos `json.loads()` e  `json.load()`, respetivamente.\n",
    "* Encontra mais detalhes [aqui](https://secure.grupolusofona.pt/ulht/moodle/pluginfile.php/800079/course/section/398731/pw-03-python-03.1-csv-json.pdf).\n",
    "\n",
    "Exemplo de utilização:"
   ]
  },
  {
   "cell_type": "code",
   "execution_count": 2,
   "metadata": {},
   "outputs": [],
   "source": [
    "import json\n",
    "\n",
    "pessoa_dict = {\n",
    "    \"nome\": \"Pedro\",\n",
    "    \"linguas\": [\"Portugues\", \"Espanhol\"],\n",
    "    \"casado\": True,\n",
    "    \"esposa\": \"Ines\",\n",
    "    \"idade\": 32,\n",
    "    \"filhos\": {\n",
    "        \"Afonso\":12,\n",
    "        \"Beatriz\":10,\n",
    "        \"Joao\":7,\n",
    "        \"Diniz\":4\n",
    "    }\n",
    "}\n",
    "\n",
    "with open('pessoa.json', 'w') as json_file:\n",
    "    json.dump(pessoa_dict, json_file, indent = 4)"
   ]
  },
  {
   "cell_type": "markdown",
   "metadata": {},
   "source": [
    "### Enunciado do Exercício 1\n",
    "\n",
    "Crie uma pasta exercicio_1. Nesta, crie o *package* `analisa_ficheiro`, pasta que deverá ter os 3 seguintes módulos: \n",
    "\n",
    "* `acessorio.py` que contém as seguintes funções:\n",
    "    - `pede_nome` que pede o nome de um ficheiro de texto (com extensão `txt`). Deverá verificar se o ficheiro existe. Caso não exista, volte a pedir. Caso exista, retorna numa string o nome do ficheiro.\n",
    "    - `gera_nome` que recebe o nome do ficheiro e cria o nome onde guardará os resultados da analise do ficheiro, em formato json. Por exemplo, se o ficheiro for `historia.txt`, deverá devolver `historia.json`  \n",
    "\n",
    "\n",
    "* `calculos.py` que contém as seguintes funções:\n",
    "    - `calcula_linhas` que recebe o nome do ficheiro e retorna o número de linhas do ficheiro\n",
    "    - `calcula_carateres` que recebe o nome do ficheiro e retorna o número de carateres do ficheiro\n",
    "    - `calcula_palavra_comprida` que retorna a palavra mais comprida do ficheiro.\n",
    "    - `calcula_ocorrencia_de_letras` que recebe o nome do ficheiro e cria um dicionário de todas as letras do ficheiro, indicando a quantidade de vezes que cada letra ocorre. Deverá desprezar se é maiúscula ou minúscula. Por exemplo, para o ficheiro com conteúdo \"Abracadabra, pura magia!\" terá {\"a\":8, \"b\":2, \"c\":1, ...}\n",
    "\n",
    "* `__init__` que indica que a pasta `analisa_ficheiro` é um módulo. Importe os dois módulos do package, para que as funções fiquem disponíveis quando importar o *package*.\n",
    "\n",
    "Crie o módulo `principal.py` que:\n",
    "* importe o package `analisa_ficheiro`.\n",
    "* importe o modulo json\n",
    "* defina a função `main`, que deverá utilizar todas as funções disponíveis no *package* `analisa_ficheiro` para extrair a informação sobre o ficheiro e guardá-la no ficheiro de resultados no formato json\n",
    "* avalie se o módulo foi executado como script, e caso positivo, invoque a função `main()`, da seguinte forma:\n",
    "\n",
    "```\n",
    "if __name__ == \"__main__\": \n",
    "    main()\n",
    "```\n",
    "\n",
    "A estrutura ficará:\n",
    "```\n",
    "│   principal.py\n",
    "│\n",
    "└───analisa_ficheiro\n",
    "        acessorio.py\n",
    "        calculos.py\n",
    "        __init__.py\n",
    "```"
   ]
  },
  {
   "cell_type": "markdown",
   "metadata": {},
   "source": [
    "# Exercício 2\n",
    "\n",
    "### Manipulação de ficheiros CSV\n",
    "\n",
    "* Um ficheiro Comma Separated Value (CSV) tem a seguinte sintaxe:\n",
    "    * os valores são separados por `,` (mas pode convencionar-se outro delimitador como `;`)\n",
    "    * Não deve conter espaços.\n",
    "    * Qualquer campo pode estar entre aspas.\n",
    "    * Item com várias palavras ou vírgulas devem ser envolvidos entre `\" \"`.\n",
    "    * Pode haver campos vazios e quebras de linha.\n",
    "* O módulo `csv` do Python permite manipular ficheiros CSV. Deverá instalá-lo com o comando `python -m pip install csv`. Encontra mais detalhes [aqui](https://secure.grupolusofona.pt/ulht/moodle/pluginfile.php/800079/course/section/398731/pw-03-python-03.1-csv-json.pdf).\n",
    "* Neste exercício escreverá um dicionário num ficheiro CSV. Eis um exemplo de como o poderá fazer:"
   ]
  },
  {
   "cell_type": "code",
   "execution_count": 11,
   "metadata": {},
   "outputs": [],
   "source": [
    "import csv\n",
    "with open('pessoas.csv', 'w', newline='') as ficheiro:\n",
    "    campos = ['Nome', 'Idade']\n",
    "    writer = csv.DictWriter(ficheiro, fieldnames=campos)\n",
    "    writer.writeheader()\n",
    "    writer.writerow({'Nome':'Luis', 'Idade':27})\n",
    "    writer.writerow({'Nome': 'Marcelo', 'Idade':26}) \n",
    "    writer.writerow({'Nome': 'Ana', 'Idade':20})"
   ]
  },
  {
   "cell_type": "markdown",
   "metadata": {},
   "source": [
    "### Criação de gráficos com Matplotlib\n",
    "\n",
    "O módulo `matplotlib` permite fazer facilmente gráficos de linha, scatter, barras e queijos. Deverá instalá-lo com o comando `python -m pip install matplotlib`.\n",
    "\n",
    "Usaremos neste exercício grafico de barras e queijos. Apresentam-se em baixo duas funções que criam gráficos e que irá integrar no exercício. Neste caso, recebem um título, e duas listas, uma de chaves e outra de valores."
   ]
  },
  {
   "source": [
    "# O modulo matplotlib permite fazer desenho de gráficos\n",
    "from matplotlib import pyplot as plt\n",
    "\n",
    "def faz_grafico_queijos(titulo, lista_chaves, lista_valores):\n",
    "    \n",
    "    plt.pie(lista_valores, labels=lista_chaves, autopct='%1.0f%%')\n",
    "    plt.title(titulo)\n",
    "    plt.show()\n",
    "    \n",
    "def faz_grafico_barras(titulo, lista_chaves, lista_valores):\n",
    "    \n",
    "    plt.bar(lista_chaves, lista_valores)\n",
    "    plt.title(titulo)\n",
    "    plt.show()\n",
    "     \n",
    "        \n",
    "lista_chaves = ['HTML & CSS', 'Python & Django', 'JavaScript & React']\n",
    "lista_valores = [5, 5, 3]\n",
    "titulo = 'Programação Web'\n",
    "faz_grafico_queijos(titulo, lista_chaves, lista_valores)\n",
    "faz_grafico_barras(titulo, lista_chaves, lista_valores)"
   ],
   "cell_type": "code",
   "metadata": {},
   "execution_count": 9,
   "outputs": [
    {
     "output_type": "error",
     "ename": "ModuleNotFoundError",
     "evalue": "No module named 'matplotlib'",
     "traceback": [
      "\u001b[1;31m---------------------------------------------------------------------------\u001b[0m",
      "\u001b[1;31mModuleNotFoundError\u001b[0m                       Traceback (most recent call last)",
      "\u001b[1;32m<ipython-input-9-37820eaac25a>\u001b[0m in \u001b[0;36m<module>\u001b[1;34m\u001b[0m\n\u001b[0;32m      1\u001b[0m \u001b[1;31m# O modulo matplotlib permite fazer desenho de gráficos\u001b[0m\u001b[1;33m\u001b[0m\u001b[1;33m\u001b[0m\u001b[1;33m\u001b[0m\u001b[0m\n\u001b[1;32m----> 2\u001b[1;33m \u001b[1;32mfrom\u001b[0m \u001b[0mmatplotlib\u001b[0m \u001b[1;32mimport\u001b[0m \u001b[0mpyplot\u001b[0m \u001b[1;32mas\u001b[0m \u001b[0mplt\u001b[0m\u001b[1;33m\u001b[0m\u001b[1;33m\u001b[0m\u001b[0m\n\u001b[0m\u001b[0;32m      3\u001b[0m \u001b[1;33m\u001b[0m\u001b[0m\n\u001b[0;32m      4\u001b[0m \u001b[1;32mdef\u001b[0m \u001b[0mfaz_grafico_queijos\u001b[0m\u001b[1;33m(\u001b[0m\u001b[0mtitulo\u001b[0m\u001b[1;33m,\u001b[0m \u001b[0mlista_chaves\u001b[0m\u001b[1;33m,\u001b[0m \u001b[0mlista_valores\u001b[0m\u001b[1;33m)\u001b[0m\u001b[1;33m:\u001b[0m\u001b[1;33m\u001b[0m\u001b[1;33m\u001b[0m\u001b[0m\n\u001b[0;32m      5\u001b[0m \u001b[1;33m\u001b[0m\u001b[0m\n",
      "\u001b[1;31mModuleNotFoundError\u001b[0m: No module named 'matplotlib'"
     ]
    }
   ]
  },
  {
   "cell_type": "markdown",
   "metadata": {},
   "source": [
    "### Enunciado do Exercício 2\n",
    "\n",
    "Crie uma pasta exercicio_2. Escreva um programa em Python usando o VS Code que analisa os tipos de ficheiros existentes numa pasta. Despreze as sub-pastas existentes e seus conteúdos. \n",
    "\n",
    "A.\n",
    "O módulo `os` tem uma série de métodos que serão úteis: `os.getcwd(), os.listdir(), os.path.isfile(), os.path.isdir()`.\n",
    "\n",
    "B. Defina na pasta exercicio_2 o módulo `analise_pasta.py` que tem várias funções:\n",
    "1. `pede_pasta` pede ao utilizador para inserir um caminho para uma pasta.\n",
    "2. `faz_calculos`, que, para os tipos de ficheiros existentes, contabiliza a quantidade de ficheiros e volume total ocupado em kBytes. Utilize um dicionário que tenha como chaves a extensão dos tipos de ficheiro encontrados. Como valor, utilizer um dicionario para guardar informação da quantidade e volume. Exemplo de dicionário:\n",
    "    ```\n",
    "    dic_info = {'pdf': {'volume': 4114203, 'quantidade': 5}, 'pptx': {'volume': 891758, 'quantidade': 2}, ...} \n",
    "    ```\n",
    "3. `guarda_resultados` que guarda a informação num ficheiro CSV (com o nome da pasta e extensão csv), e indica na consola o nome do ficheiro com resultados.\n",
    "4. `faz_grafico_queijos`. Utilize a função em baixo para representar os resultados numa pie chart.\n",
    "4. `faz_grafico_barras`. Utilize a função em baixo para representar os resultados num grafico de barras.\n",
    "\n",
    "C. Crie na pasta exercicio_2 o módulo `main.py` que importa o módulo e utiliza as funções disponíveis. Este deverá ser executado pela linha de comandos como um script: `python main.py`\n",
    "\n",
    "Ambos os ficheiros main.py e analise_pasta.py ficarão na mesma pasta.\n",
    "\n",
    "**Exemplo de interação**: \n",
    "```\n",
    "Este programa analisa o tipo de ficheiros presente numa pasta. Insira o caminho para uma pasta: c:\\users\\lsf\\varios\n",
    "Os resultados foram guardados no ficheiro `varios.csv`\n",
    "```\n",
    "\n",
    "**Exemplo de conteúdo do ficheiro CSV**:\n",
    "```\n",
    "Extensao,Quantidade,Tamanho[kByte]\n",
    "pdf,5,4018\n",
    "xlsx,4,220\n",
    "pptx,2,871\n",
    "png,3,188\n",
    "```"
   ]
  },
  {
   "cell_type": "markdown",
   "metadata": {},
   "source": [
    "# Exercício 3\n",
    "Crie uma pasta exercicio_3. Este exercício apenas recorrerá a um módulo.\n",
    "\n",
    "* Crie a função `pede_pasta()` (semelhante a pede_nome do modulo do exercicio 1), para pedir o caminho (relativo ou absoluto) de uma pasta para analisar. Se a pasta não existir, deverá pedir novamente. Esta função deverá retornar o caminho da pasta a analisar (se estiver na pasta `exercicios_3` basta o nome da pasta, mas pode ser por exemplo `C:\\Users\\lsf`). \n",
    "\n",
    "* Crie a função recursiva `calcula_tamanho_pasta(pasta)` que:\n",
    "    * recebe o caminho completo de uma pasta a analisar.\n",
    "    * calcula o tamanho total em MBytes dos ficheiros nela contidos, tanto na pasta como nas sub-pastas. \n",
    "\n",
    "    * Sugestão: \n",
    "        * defina uma variável `soma` para somar o volume total dos ficheiros da pasta.\n",
    "        * itere pelos elementos da pasta (com o método `os.listdir(pasta)`)\n",
    "        * construa o caminho absoluto, com `os.path.join(pasta,elemento)`\n",
    "        * se for um ficheiro (verifique$^1$ com `os.path.isfile()`), adicione o seu tamanho a `soma`. \n",
    "        * Se for uma pasta (verifique$^1$ com `os.path.isdir()`), adicione a `soma` o resultado de `calcula_tamanho_pasta(pasta)`\n",
    "        * no final do ciclo retorne `soma`.\n",
    "\n",
    "* Crie uma função `main()` que utilize as duas funções e imprima na consola o tamanho total da pasta e subpastas.\n",
    "\n",
    "* Avalie se o módulo foi executado como um script. Caso positivo, invoque a função `main()`, da seguinte forma:\n",
    "```\n",
    "if __name__ == \"__main__\": \n",
    "    main()\n",
    "```\n",
    "\n",
    "$^1$: Certos ficheiros não são devidamente reconhecidos como ficheiro ou pasta, pelo que devemos testar ambas as condições, em vez de usar else. "
   ]
  },
  {
   "cell_type": "markdown",
   "metadata": {},
   "source": [
    "# Exercício 4\n",
    "\n",
    "Crie uma pasta exercicio_4.\n",
    "\n",
    "Os automóveis mais recentes mostram a distância que é possível percorrer até ser necessário um reabastecimento. Pretende-se criar esta funcionalidade em Python através da classe automovel. Esta classe é construída indicando os seguintes atributos: \n",
    "* cap_dep, a capacidade do depósito.\n",
    "* quant_comb, a quantidade de combustível no depósito.\n",
    "* consumo, o consumo do automóvel em litros aos 100 km. \n",
    "\n",
    "A classe automovel apresenta também os seguintes métodos:\n",
    "* combustivel: devolve a quantidade de combustível no depósito;\n",
    "* autonomia: devolve o numero de Km que é possível percorrer com o combustível no depósito;\n",
    "* abastece(n_litros): aumenta em n_litros o combustível no depósito e retorna a autonomia. Se este abastecimento exceder a capacidade do depósito, gera um erro e não aumenta a quantidade de combustível no depósito;\n",
    "* percorre(n_km) percorre n_km Km, desde que a quantidade de combustível no depósito o permita, em caso contrário gera um erro e o trajecto não é efectuado. Retorna a autonomia.\n",
    "\n",
    "Crie um módulo carro.py que tenha:\n",
    "* a classe declarada\n",
    "* uma função `main` que apresente na consola um menu de opções para gerir um carro que crie, permitindo utilizar os métodos disponiveis, apresentando informação devidamente formatada.\n",
    "* avalie se o módulo foi executado como script, e, caso positivo, invoque a função `main()` da seguinte forma:\n",
    "```\n",
    "if __name__ == \"__main__\": \n",
    "    main()\n",
    "```\n",
    "\n",
    "Exemplo de interação da classe:\n",
    "```\n",
    ">>> a1 = automovel(60, 10, 15)\n",
    ">>> a1.autonomia()\n",
    "66\n",
    ">>> a1.abastece(45)\n",
    "366\n",
    ">>> a1.percorre(150)\n",
    "216\n",
    ">>> a1.percorre(250)\n",
    "-1\n",
    "```\n",
    "Deverá criar um interface adequado que mostre esta informação de forma mais \"amigável\""
   ]
  },
  {
   "cell_type": "code",
   "execution_count": 10,
   "metadata": {},
   "outputs": [
    {
     "output_type": "error",
     "ename": "NameError",
     "evalue": "name 'lista' is not defined",
     "traceback": [
      "\u001b[1;31m---------------------------------------------------------------------------\u001b[0m",
      "\u001b[1;31mNameError\u001b[0m                                 Traceback (most recent call last)",
      "\u001b[1;32m<ipython-input-10-2b53140c0bfb>\u001b[0m in \u001b[0;36m<module>\u001b[1;34m\u001b[0m\n\u001b[0;32m      5\u001b[0m     \u001b[1;32mreturn\u001b[0m \u001b[0mproduto\u001b[0m\u001b[1;33m\u001b[0m\u001b[1;33m\u001b[0m\u001b[0m\n\u001b[0;32m      6\u001b[0m \u001b[1;33m\u001b[0m\u001b[0m\n\u001b[1;32m----> 7\u001b[1;33m \u001b[0mmultiplica_lista\u001b[0m\u001b[1;33m(\u001b[0m\u001b[0mlista\u001b[0m\u001b[1;33m)\u001b[0m\u001b[1;33m\u001b[0m\u001b[1;33m\u001b[0m\u001b[0m\n\u001b[0m",
      "\u001b[1;31mNameError\u001b[0m: name 'lista' is not defined"
     ]
    }
   ],
   "source": [
    "def multiplica_lista(lista):\n",
    "    produto = 1\n",
    "    for numero in lista:\n",
    "        produto *= numero\n",
    "    return produto\n",
    "\n",
    "multiplica_lista(lista)"
   ]
  },
  {
   "cell_type": "code",
   "execution_count": null,
   "metadata": {},
   "outputs": [],
   "source": []
  }
 ],
 "metadata": {
  "kernelspec": {
   "name": "python394jvsc74a57bd009a64987882fbf5789d7cfc91efa745ea97702964cc58b6addae27a71f83b1ca",
   "display_name": "Python 3.9.4 64-bit ('Python39')"
  },
  "language_info": {
   "codemirror_mode": {
    "name": "ipython",
    "version": 3
   },
   "file_extension": ".py",
   "mimetype": "text/x-python",
   "name": "python",
   "nbconvert_exporter": "python",
   "pygments_lexer": "ipython3",
   "version": "3.9.4"
  },
  "metadata": {
   "interpreter": {
    "hash": "09a64987882fbf5789d7cfc91efa745ea97702964cc58b6addae27a71f83b1ca"
   }
  }
 },
 "nbformat": 4,
 "nbformat_minor": 4
}